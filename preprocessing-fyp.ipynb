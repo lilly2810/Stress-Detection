{
 "cells": [
  {
   "cell_type": "code",
   "execution_count": 1,
   "id": "14e0db17",
   "metadata": {},
   "outputs": [],
   "source": [
    "import pandas as pd\n",
    "import numpy as np\n",
    "import matplotlib.pyplot as plt\n",
    "import random\n",
    "import os\n",
    "import time\n",
    "from scipy.fft import fft, ifft"
   ]
  },
  {
   "cell_type": "code",
   "execution_count": null,
   "id": "5c939feb",
   "metadata": {},
   "outputs": [],
   "source": [
    "srate = 128\n",
    "\n",
    "def time_frequency(data, cmwX, nKern):\n",
    "\n",
    "    nData   = data.shape[1]\n",
    "    nConv   = nData + nKern - 1 \n",
    "    halfwav = (nKern-1)//2\n",
    "\n",
    "    tf = np.zeros((data.shape[0], cmwX.shape[0], data.shape[1])) #32*10*3200\n",
    "\n",
    "    for chani in range(data.shape[0]):\n",
    "        eegX = fft(data[chani, :] , nConv) \n",
    "        as_ = ifft(cmwX * eegX[None, :], axis=1) #convo\n",
    "        as_ = as_[:, halfwav: -halfwav]\n",
    "        tf[chani, :, :] = np.abs(as_) ** 2 \n",
    "\n",
    "    return tf\n",
    "\n",
    "\n",
    "def get_cmwX(nData, freqrange=[1,40], numfrex=42):\n",
    "\n",
    "    pi = np.pi\n",
    "    wavtime = np.arange(-2,2-1/srate,1/srate)\n",
    "    nKern = len(wavtime)\n",
    "    nConv = nData + nKern - 1\n",
    "    frex = np.linspace(freqrange[0],freqrange[1],numfrex)\n",
    "    cmwX = np.zeros((numfrex, nConv), dtype=complex)\n",
    "\n",
    "    numcyc = np.linspace(3,15,numfrex);\n",
    "    for fi in range(numfrex):\n",
    "        s = numcyc[fi] / (2*pi*frex[fi]) # period of a wave = cycle/2*pi*freq\n",
    "        twoSsquared = (2*s) ** 2^2\n",
    "        cmw = np.exp(2*1j*pi*frex[fi]*wavtime) * np.exp( (-wavtime**2) / twoSsquared ) #e^2jπft* e^(-t^2/(2s)^2)\n",
    "\n",
    "        cmwX[fi, :] = fft(cmw, nConv)\n",
    "        cmwX[fi, :] = cmwX[fi, :] / max(cmwX[fi, :])\n",
    "        \n",
    "    return cmwX, nKern, frex"
   ]
  },
  {
   "cell_type": "code",
   "execution_count": null,
   "id": "e369f8b3",
   "metadata": {},
   "outputs": [],
   "source": [
    "directory = r'C:\\Users\\Lilly Pushparani\\Downloads\\Data\\Data\\22'\n"
   ]
  },
  {
   "cell_type": "code",
   "execution_count": null,
   "id": "6b4efac0",
   "metadata": {},
   "outputs": [],
   "source": [
    "csv_file_path =r'C:\\Users\\Lilly Pushparani\\Downloads\\Data\\Data\\codes.csv'\n",
    "codes_df = pd.read_csv(csv_file_path ,header=None)\n",
    "codes = codes_df[0].tolist()\n",
    "len(codes)"
   ]
  },
  {
   "cell_type": "code",
   "execution_count": null,
   "id": "ef3e2a8d",
   "metadata": {},
   "outputs": [],
   "source": [
    "index=1\n",
    "for i in range(1, 361):\n",
    "    mnist_path = mnist_path = os.path.join(directory,f'{i}.csv')\n",
    "\n",
    "    mnist_df = pd.read_csv(mnist_path, sep='\\t', header=None, nrows=360)\n",
    "    mnist_df.columns = ['data']\n",
    "    df = mnist_df\n",
    "    df[\"data\"] = df[\"data\"].apply(lambda x: [float(i) for i in x.split(\",\")])\n",
    "\n",
    "    pnts = df.shape[0]\n",
    "    \n",
    "    df[\"resampled_data\"] = df[\"data\"]\n",
    "    df[\"data\"].shape\n",
    "    data_array = np.array(df[\"resampled_data\"].tolist())\n",
    "    data_array = np.reshape(data_array, (-1, 1, data_array.shape[1]))\n",
    "    data_array = np.mean(data_array, axis=1)\n",
    "    starting_freq = 1\n",
    "    end_freq = 10\n",
    "    num_frequencies = 10\n",
    "    median_length = 3200\n",
    "    times = np.linspace(0,2,median_length)\n",
    "    nData = data_array.shape[1]\n",
    "    cmwX, nKern, frex = get_cmwX(nData, freqrange=[starting_freq, end_freq], numfrex=num_frequencies)\n",
    "    tf = time_frequency(data_array, cmwX, nKern)\n",
    "\n",
    "    fig, axs = plt.subplots(3, 3, figsize=(15, 10))\n",
    "    for j,ax in enumerate(axs.flat):\n",
    "      x = random.randint(0, tf.shape[0]-1)\n",
    "      contour = ax.contourf(times, frex, tf[x,:,:], 40, cmap='jet')\n",
    "      ax.set_xlabel('Time (s)')\n",
    "      ax.set_ylabel('Frequencies (Hz)')\n",
    "      ax.set_title(f\"Time Frequency Plot for {'Stress' if codes[x] == 1 else 'No Stress'}\")\n",
    "    fig.tight_layout()\n",
    "    tf.shape\n",
    "    path = r'C:\\Users\\Lilly Pushparani\\Downloads\\Data\\Data\\images'\n",
    "    for k in range(tf.shape[0]):\n",
    "        print(index)\n",
    "        code = 0 if codes[index-1] == 0 else 1\n",
    "        folder_path =  f\"{path}/{code}\"\n",
    "        \n",
    "        os.makedirs(folder_path, exist_ok=True)\n",
    "        fig, ax = plt.subplots()\n",
    "        ax.contourf(times, frex, tf[k,:,:], 40, cmap='jet')\n",
    "        ax.axis('off')\n",
    "        \n",
    "        file_path = f\"{folder_path}/{index}.png\"\n",
    "        fig.savefig(file_path, bbox_inches='tight', pad_inches=0)\n",
    "        \n",
    "        index=index+1\n",
    "        fig.clf()\n",
    "        plt.close()"
   ]
  },
  {
   "cell_type": "code",
   "execution_count": null,
   "id": "697b2ee1",
   "metadata": {},
   "outputs": [],
   "source": [
    "# CNN"
   ]
  }
 ],
 "metadata": {
  "kernelspec": {
   "display_name": "Python 3 (ipykernel)",
   "language": "python",
   "name": "python3"
  },
  "language_info": {
   "codemirror_mode": {
    "name": "ipython",
    "version": 3
   },
   "file_extension": ".py",
   "mimetype": "text/x-python",
   "name": "python",
   "nbconvert_exporter": "python",
   "pygments_lexer": "ipython3",
   "version": "3.11.5"
  }
 },
 "nbformat": 4,
 "nbformat_minor": 5
}
